{
  "nbformat": 4,
  "nbformat_minor": 0,
  "metadata": {
    "colab": {
      "provenance": [],
      "mount_file_id": "1w5Jj26WWhYhU3LBi8qT4rVCkwMWOrWl_",
      "authorship_tag": "ABX9TyOAuT8xYs4TF7frSsNDwwOM",
      "include_colab_link": true
    },
    "kernelspec": {
      "name": "python3",
      "display_name": "Python 3"
    },
    "language_info": {
      "name": "python"
    }
  },
  "cells": [
    {
      "cell_type": "markdown",
      "metadata": {
        "id": "view-in-github",
        "colab_type": "text"
      },
      "source": [
        "<a href=\"https://colab.research.google.com/github/mattambram/banana/blob/main/Lista_3_Definitva12.ipynb\" target=\"_parent\"><img src=\"https://colab.research.google.com/assets/colab-badge.svg\" alt=\"Open In Colab\"/></a>"
      ]
    },
    {
      "cell_type": "code",
      "execution_count": 1,
      "metadata": {
        "colab": {
          "base_uri": "https://localhost:8080/"
        },
        "id": "uT4BHxH0M-oV",
        "outputId": "1f581eab-279d-448c-adb3-ef927b76adaa"
      },
      "outputs": [
        {
          "output_type": "stream",
          "name": "stdout",
          "text": [
            "      fixed acidity  volatile acidity  citric acid  residual sugar  chlorides  \\\n",
            "0               7.4             0.700         0.00             1.9      0.076   \n",
            "1               7.8             0.880         0.00             2.6      0.098   \n",
            "2               7.8             0.760         0.04             2.3      0.092   \n",
            "3              11.2             0.280         0.56             1.9      0.075   \n",
            "4               7.4             0.700         0.00             1.9      0.076   \n",
            "...             ...               ...          ...             ...        ...   \n",
            "1594            6.2             0.600         0.08             2.0      0.090   \n",
            "1595            5.9             0.550         0.10             2.2      0.062   \n",
            "1596            6.3             0.510         0.13             2.3      0.076   \n",
            "1597            5.9             0.645         0.12             2.0      0.075   \n",
            "1598            6.0             0.310         0.47             3.6      0.067   \n",
            "\n",
            "      free sulfur dioxide  total sulfur dioxide  density    pH  sulphates  \\\n",
            "0                    11.0                  34.0  0.99780  3.51       0.56   \n",
            "1                    25.0                  67.0  0.99680  3.20       0.68   \n",
            "2                    15.0                  54.0  0.99700  3.26       0.65   \n",
            "3                    17.0                  60.0  0.99800  3.16       0.58   \n",
            "4                    11.0                  34.0  0.99780  3.51       0.56   \n",
            "...                   ...                   ...      ...   ...        ...   \n",
            "1594                 32.0                  44.0  0.99490  3.45       0.58   \n",
            "1595                 39.0                  51.0  0.99512  3.52       0.76   \n",
            "1596                 29.0                  40.0  0.99574  3.42       0.75   \n",
            "1597                 32.0                  44.0  0.99547  3.57       0.71   \n",
            "1598                 18.0                  42.0  0.99549  3.39       0.66   \n",
            "\n",
            "      alcohol  quality  \n",
            "0         9.4        5  \n",
            "1         9.8        5  \n",
            "2         9.8        5  \n",
            "3         9.8        6  \n",
            "4         9.4        5  \n",
            "...       ...      ...  \n",
            "1594     10.5        5  \n",
            "1595     11.2        6  \n",
            "1596     11.0        6  \n",
            "1597     10.2        5  \n",
            "1598     11.0        6  \n",
            "\n",
            "[1599 rows x 12 columns]\n"
          ]
        }
      ],
      "source": [
        "import pandas as pd\n",
        "\n",
        "# 1.Salve a base de dados escolhida no seu drive e importe para um notebook do Colab, criando um Dataframe\n",
        "vinho = pd.read_csv(\"/content/drive/MyDrive/class_wine_quality.csv\")\n",
        "data_vinhos = pd.DataFrame(vinho)\n",
        "print(data_vinhos)"
      ]
    },
    {
      "cell_type": "code",
      "source": [
        "# 2.Inspecione as colunas do conjunto de dados (Nome das colunas e tipo de dados)\n",
        "print(vinho.info())\n"
      ],
      "metadata": {
        "colab": {
          "base_uri": "https://localhost:8080/"
        },
        "id": "3k-qUMkkvdIO",
        "outputId": "b102b47c-b8e5-4a07-bf39-33837f1c701a"
      },
      "execution_count": 2,
      "outputs": [
        {
          "output_type": "stream",
          "name": "stdout",
          "text": [
            "<class 'pandas.core.frame.DataFrame'>\n",
            "RangeIndex: 1599 entries, 0 to 1598\n",
            "Data columns (total 12 columns):\n",
            " #   Column                Non-Null Count  Dtype  \n",
            "---  ------                --------------  -----  \n",
            " 0   fixed acidity         1599 non-null   float64\n",
            " 1   volatile acidity      1599 non-null   float64\n",
            " 2   citric acid           1599 non-null   float64\n",
            " 3   residual sugar        1599 non-null   float64\n",
            " 4   chlorides             1599 non-null   float64\n",
            " 5   free sulfur dioxide   1599 non-null   float64\n",
            " 6   total sulfur dioxide  1599 non-null   float64\n",
            " 7   density               1599 non-null   float64\n",
            " 8   pH                    1599 non-null   float64\n",
            " 9   sulphates             1599 non-null   float64\n",
            " 10  alcohol               1599 non-null   float64\n",
            " 11  quality               1599 non-null   int64  \n",
            "dtypes: float64(11), int64(1)\n",
            "memory usage: 150.0 KB\n",
            "None\n"
          ]
        }
      ]
    },
    {
      "cell_type": "code",
      "source": [
        "# 3.Escolha uma coluna com valores numéricos e apague todas as linhas que possuam valor nulo\n",
        "data_vinhos.dropna(subset=['citric acid'], inplace = True)\n",
        "print(data_vinhos)"
      ],
      "metadata": {
        "id": "eYUgo1Kr7qz5",
        "colab": {
          "base_uri": "https://localhost:8080/"
        },
        "outputId": "d90a5a84-8229-477e-9c49-db3b39e717c4"
      },
      "execution_count": 3,
      "outputs": [
        {
          "output_type": "stream",
          "name": "stdout",
          "text": [
            "      fixed acidity  volatile acidity  citric acid  residual sugar  chlorides  \\\n",
            "0               7.4             0.700         0.00             1.9      0.076   \n",
            "1               7.8             0.880         0.00             2.6      0.098   \n",
            "2               7.8             0.760         0.04             2.3      0.092   \n",
            "3              11.2             0.280         0.56             1.9      0.075   \n",
            "4               7.4             0.700         0.00             1.9      0.076   \n",
            "...             ...               ...          ...             ...        ...   \n",
            "1594            6.2             0.600         0.08             2.0      0.090   \n",
            "1595            5.9             0.550         0.10             2.2      0.062   \n",
            "1596            6.3             0.510         0.13             2.3      0.076   \n",
            "1597            5.9             0.645         0.12             2.0      0.075   \n",
            "1598            6.0             0.310         0.47             3.6      0.067   \n",
            "\n",
            "      free sulfur dioxide  total sulfur dioxide  density    pH  sulphates  \\\n",
            "0                    11.0                  34.0  0.99780  3.51       0.56   \n",
            "1                    25.0                  67.0  0.99680  3.20       0.68   \n",
            "2                    15.0                  54.0  0.99700  3.26       0.65   \n",
            "3                    17.0                  60.0  0.99800  3.16       0.58   \n",
            "4                    11.0                  34.0  0.99780  3.51       0.56   \n",
            "...                   ...                   ...      ...   ...        ...   \n",
            "1594                 32.0                  44.0  0.99490  3.45       0.58   \n",
            "1595                 39.0                  51.0  0.99512  3.52       0.76   \n",
            "1596                 29.0                  40.0  0.99574  3.42       0.75   \n",
            "1597                 32.0                  44.0  0.99547  3.57       0.71   \n",
            "1598                 18.0                  42.0  0.99549  3.39       0.66   \n",
            "\n",
            "      alcohol  quality  \n",
            "0         9.4        5  \n",
            "1         9.8        5  \n",
            "2         9.8        5  \n",
            "3         9.8        6  \n",
            "4         9.4        5  \n",
            "...       ...      ...  \n",
            "1594     10.5        5  \n",
            "1595     11.2        6  \n",
            "1596     11.0        6  \n",
            "1597     10.2        5  \n",
            "1598     11.0        6  \n",
            "\n",
            "[1599 rows x 12 columns]\n"
          ]
        }
      ]
    },
    {
      "cell_type": "code",
      "source": [
        "# 4. Calcule a média desta mesma coluna\n",
        "media_acido = data_vinhos['citric acid'].mean()\n",
        "print(media_acido)"
      ],
      "metadata": {
        "colab": {
          "base_uri": "https://localhost:8080/"
        },
        "id": "c0kYEN-d9_oq",
        "outputId": "1f92ef54-5df1-4e9a-c93c-4da6d75f71c1"
      },
      "execution_count": 4,
      "outputs": [
        {
          "output_type": "stream",
          "name": "stdout",
          "text": [
            "0.2709756097560976\n"
          ]
        }
      ]
    },
    {
      "cell_type": "code",
      "source": [
        "# 5. Escolha um critério para eliminar as linhas que possuam valores muito distantes da média e crie um novo Dataframe.\n",
        "\n",
        "linhas_remover1 = data_vinhos[ (data_vinhos['citric acid'] >= 0.47)].index\n",
        "linhas_remover2 = data_vinhos[ (data_vinhos['citric acid'] <= 0.07)].index\n",
        "data_vinhos1=data_vinhos.drop(linhas_remover1)\n",
        "data_vinhos2=data_vinhos1.drop(linhas_remover2)\n",
        "print(data_vinhos2)"
      ],
      "metadata": {
        "colab": {
          "base_uri": "https://localhost:8080/"
        },
        "id": "KbQVKzNW-7mi",
        "outputId": "37b3dbb7-c89a-42e8-ca27-7da2495e81de"
      },
      "execution_count": 6,
      "outputs": [
        {
          "output_type": "stream",
          "name": "stdout",
          "text": [
            "      fixed acidity  volatile acidity  citric acid  residual sugar  chlorides  \\\n",
            "9               7.5             0.500         0.36             6.1      0.071   \n",
            "10              6.7             0.580         0.08             1.8      0.097   \n",
            "11              7.5             0.500         0.36             6.1      0.071   \n",
            "13              7.8             0.610         0.29             1.6      0.114   \n",
            "14              8.9             0.620         0.18             3.8      0.176   \n",
            "...             ...               ...          ...             ...        ...   \n",
            "1593            6.8             0.620         0.08             1.9      0.068   \n",
            "1594            6.2             0.600         0.08             2.0      0.090   \n",
            "1595            5.9             0.550         0.10             2.2      0.062   \n",
            "1596            6.3             0.510         0.13             2.3      0.076   \n",
            "1597            5.9             0.645         0.12             2.0      0.075   \n",
            "\n",
            "      free sulfur dioxide  total sulfur dioxide  density    pH  sulphates  \\\n",
            "9                    17.0                 102.0  0.99780  3.35       0.80   \n",
            "10                   15.0                  65.0  0.99590  3.28       0.54   \n",
            "11                   17.0                 102.0  0.99780  3.35       0.80   \n",
            "13                    9.0                  29.0  0.99740  3.26       1.56   \n",
            "14                   52.0                 145.0  0.99860  3.16       0.88   \n",
            "...                   ...                   ...      ...   ...        ...   \n",
            "1593                 28.0                  38.0  0.99651  3.42       0.82   \n",
            "1594                 32.0                  44.0  0.99490  3.45       0.58   \n",
            "1595                 39.0                  51.0  0.99512  3.52       0.76   \n",
            "1596                 29.0                  40.0  0.99574  3.42       0.75   \n",
            "1597                 32.0                  44.0  0.99547  3.57       0.71   \n",
            "\n",
            "      alcohol  quality  \n",
            "9        10.5        5  \n",
            "10        9.2        5  \n",
            "11       10.5        5  \n",
            "13        9.1        5  \n",
            "14        9.2        5  \n",
            "...       ...      ...  \n",
            "1593      9.5        6  \n",
            "1594     10.5        5  \n",
            "1595     11.2        6  \n",
            "1596     11.0        6  \n",
            "1597     10.2        5  \n",
            "\n",
            "[940 rows x 12 columns]\n"
          ]
        }
      ]
    },
    {
      "cell_type": "code",
      "source": [
        "# 6. Crie um novo Dataframe que contenha apenas 5 colunas do conjunto anterior\n",
        "col_pH = data_vinhos2[\"pH\"]\n",
        "col_density = data_vinhos2[\"density\"]\n",
        "col_quality = data_vinhos2[\"quality\"]\n",
        "col_alcohol = data_vinhos2[\"alcohol\"]\n",
        "col_sulphates = data_vinhos2[\"sulphates\"]\n",
        "\n",
        "nova_data_vinhos = pd.concat([col_pH,col_density,col_quality,col_alcohol,col_sulphates],axis=1)\n",
        "print(nova_data_vinhos)"
      ],
      "metadata": {
        "colab": {
          "base_uri": "https://localhost:8080/"
        },
        "id": "xC_xj2uoKOXN",
        "outputId": "23a573e4-bd01-4907-8144-daf81602a815"
      },
      "execution_count": 8,
      "outputs": [
        {
          "output_type": "stream",
          "name": "stdout",
          "text": [
            "        pH  density  quality  alcohol  sulphates\n",
            "9     3.35  0.99780        5     10.5       0.80\n",
            "10    3.28  0.99590        5      9.2       0.54\n",
            "11    3.35  0.99780        5     10.5       0.80\n",
            "13    3.26  0.99740        5      9.1       1.56\n",
            "14    3.16  0.99860        5      9.2       0.88\n",
            "...    ...      ...      ...      ...        ...\n",
            "1593  3.42  0.99651        6      9.5       0.82\n",
            "1594  3.45  0.99490        5     10.5       0.58\n",
            "1595  3.52  0.99512        6     11.2       0.76\n",
            "1596  3.42  0.99574        6     11.0       0.75\n",
            "1597  3.57  0.99547        5     10.2       0.71\n",
            "\n",
            "[940 rows x 5 columns]\n"
          ]
        }
      ]
    },
    {
      "cell_type": "code",
      "source": [
        "# 7. Escolha duas colunas numéricas e crie uma nova coluna que siga a regra: (Coluna A - Coluna B)*número aleatório (entre 0 e 1)\n",
        "lista_ph = col_pH.tolist()\n",
        "lista_qualidade = col_quality.tolist()\n",
        "lista_novaColuna = list()\n",
        "import random\n",
        "for i,el in enumerate(lista_ph):\n",
        "  novoEl = (el + lista_qualidade[i])*random.randint(0,1)\n",
        "  lista_novaColuna.append(novoEl)\n",
        "print(lista_novaColuna)\n",
        "nova_data_vinhos.insert(0,\"Nova Coluna\",lista_novaColuna)\n",
        "print(nova_data_vinhos)"
      ],
      "metadata": {
        "colab": {
          "base_uri": "https://localhost:8080/"
        },
        "id": "z1FX8_RAMX__",
        "outputId": "de10bcba-9b7d-4c82-c742-0bfc0371f45d"
      },
      "execution_count": 9,
      "outputs": [
        {
          "output_type": "stream",
          "name": "stdout",
          "text": [
            "[8.35, 0.0, 8.35, 0.0, 0.0, 8.17, 8.11, 7.38, 0.0, 8.17, 0.0, 9.43, 8.34, 8.28, 0.0, 0.0, 9.45, 8.379999999999999, 9.42, 10.23, 7.5, 0.0, 0.0, 0.0, 9.21, 8.3, 0.0, 8.25, 0.0, 0.0, 0.0, 8.2, 9.17, 8.26, 8.43, 0.0, 8.44, 0.0, 0.0, 9.32, 8.32, 8.31, 7.3100000000000005, 0.0, 7.16, 0.0, 0.0, 0.0, 0.0, 8.39, 0.0, 0.0, 0.0, 0.0, 7.93, 0.0, 9.85, 8.25, 0.0, 9.4, 0.0, 0.0, 8.29, 8.33, 0.0, 8.46, 8.19, 8.15, 8.15, 9.32, 0.0, 9.07, 9.39, 9.370000000000001, 0.0, 0.0, 8.39, 10.42, 8.42, 0.0, 0.0, 0.0, 0.0, 8.48, 8.33, 0.0, 0.0, 8.23, 8.34, 8.11, 0.0, 0.0, 0.0, 8.42, 8.42, 8.42, 0.0, 8.370000000000001, 0.0, 8.34, 0.0, 0.0, 9.29, 0.0, 8.33, 9.58, 0.0, 0.0, 8.54, 0.0, 0.0, 0.0, 8.2, 0.0, 0.0, 0.0, 8.28, 8.28, 0.0, 8.46, 10.57, 8.36, 0.0, 9.34, 0.0, 0.0, 9.35, 0.0, 9.24, 8.14, 8.36, 0.0, 0.0, 9.34, 8.15, 0.0, 0.0, 9.370000000000001, 8.39, 0.0, 8.46, 9.34, 0.0, 0.0, 0.0, 0.0, 9.08, 0.0, 10.07, 0.0, 0.0, 0.0, 8.26, 0.0, 0.0, 0.0, 11.35, 8.31, 8.379999999999999, 0.0, 10.379999999999999, 9.120000000000001, 0.0, 0.0, 9.370000000000001, 10.34, 0.0, 0.0, 9.41, 8.05, 0.0, 8.51, 8.39, 0.0, 9.19, 0.0, 0.0, 0.0, 0.0, 0.0, 8.39, 0.0, 0.0, 0.0, 10.370000000000001, 9.3, 10.370000000000001, 8.24, 0.0, 0.0, 9.16, 8.18, 9.22, 8.129999999999999, 0.0, 0.0, 0.0, 9.28, 0.0, 0.0, 9.370000000000001, 0.0, 8.05, 9.31, 9.21, 0.0, 0.0, 8.42, 0.0, 0.0, 0.0, 10.19, 0.0, 9.29, 9.36, 0.0, 8.379999999999999, 0.0, 0.0, 0.0, 8.44, 10.28, 0.0, 8.36, 9.49, 9.26, 8.24, 8.25, 0.0, 0.0, 9.23, 8.22, 9.2, 0.0, 0.0, 0.0, 0.0, 0.0, 0.0, 0.0, 0.0, 8.14, 0.0, 0.0, 9.19, 0.0, 8.17, 0.0, 0.0, 0.0, 9.31, 9.48, 9.44, 9.43, 0.0, 0.0, 0.0, 0.0, 0.0, 9.18, 0.0, 8.24, 8.09, 0.0, 0.0, 9.28, 9.41, 8.09, 0.0, 8.26, 8.120000000000001, 0.0, 0.0, 0.0, 9.120000000000001, 8.74, 9.32, 0.0, 9.57, 0.0, 7.34, 0.0, 8.26, 0.0, 8.4, 0.0, 9.2, 0.0, 0.0, 9.17, 9.31, 9.31, 9.32, 0.0, 8.26, 8.870000000000001, 8.09, 8.27, 8.28, 0.0, 9.49, 8.36, 0.0, 9.27, 0.0, 9.27, 9.32, 0.0, 8.27, 8.24, 0.0, 10.35, 9.18, 8.39, 8.46, 0.0, 8.46, 0.0, 10.370000000000001, 0.0, 0.0, 7.890000000000001, 0.0, 8.14, 7.890000000000001, 8.31, 9.04, 8.14, 9.18, 8.94, 0.0, 8.94, 0.0, 0.0, 0.0, 8.2, 9.08, 8.26, 9.08, 8.4, 0.0, 0.0, 0.0, 8.33, 8.370000000000001, 0.0, 0.0, 8.44, 0.0, 0.0, 0.0, 0.0, 0.0, 9.08, 0.0, 0.0, 8.370000000000001, 9.34, 8.06, 0.0, 8.34, 8.28, 9.29, 0.0, 0.0, 0.0, 8.21, 7.9399999999999995, 0.0, 8.29, 9.43, 0.0, 0.0, 0.0, 0.0, 0.0, 0.0, 9.45, 0.0, 9.52, 9.3, 0.0, 0.0, 0.0, 8.29, 8.29, 0.0, 8.29, 8.19, 0.0, 8.25, 8.25, 9.31, 0.0, 0.0, 0.0, 8.28, 0.0, 0.0, 9.31, 0.0, 0.0, 0.0, 0.0, 0.0, 0.0, 8.21, 9.18, 9.18, 8.09, 0.0, 8.23, 0.0, 0.0, 0.0, 0.0, 9.29, 8.25, 0.0, 0.0, 0.0, 0.0, 10.27, 10.33, 8.26, 9.22, 0.0, 8.24, 7.4399999999999995, 0.0, 0.0, 9.28, 8.28, 8.61, 0.0, 8.24, 0.0, 0.0, 8.36, 11.46, 9.56, 9.56, 6.38, 7.38, 8.32, 8.39, 0.0, 10.26, 0.0, 0.0, 8.28, 0.0, 0.0, 8.59, 9.5, 0.0, 0.0, 8.28, 0.0, 0.0, 0.0, 0.0, 0.0, 10.4, 9.4, 0.0, 0.0, 9.4, 0.0, 7.43, 10.23, 10.120000000000001, 0.0, 0.0, 8.15, 0.0, 9.22, 0.0, 9.33, 10.15, 8.22, 0.0, 9.22, 0.0, 10.31, 0.0, 10.58, 10.58, 0.0, 8.39, 0.0, 0.0, 9.18, 9.33, 10.27, 0.0, 9.27, 0.0, 9.379999999999999, 0.0, 9.379999999999999, 8.24, 9.3, 9.379999999999999, 0.0, 8.18, 10.47, 9.47, 0.0, 0.0, 0.0, 0.0, 9.39, 0.0, 10.34, 0.0, 0.0, 10.24, 0.0, 0.0, 0.0, 0.0, 10.31, 0.0, 0.0, 9.16, 0.0, 9.15, 9.16, 0.0, 0.0, 8.129999999999999, 0.0, 0.0, 0.0, 10.3, 0.0, 0.0, 8.15, 0.0, 0.0, 8.25, 0.0, 0.0, 10.19, 8.44, 8.16, 9.14, 0.0, 0.0, 0.0, 0.0, 0.0, 0.0, 10.44, 0.0, 0.0, 0.0, 8.25, 10.36, 0.0, 10.26, 10.23, 8.18, 0.0, 9.17, 8.23, 0.0, 9.06, 0.0, 8.89, 8.89, 8.53, 0.0, 0.0, 0.0, 0.0, 0.0, 9.2, 0.0, 10.22, 0.0, 0.0, 0.0, 9.379999999999999, 9.33, 0.0, 0.0, 8.49, 9.27, 0.0, 8.49, 0.0, 9.129999999999999, 9.129999999999999, 8.15, 0.0, 0.0, 0.0, 10.4, 0.0, 10.18, 8.2, 9.4, 0.0, 8.2, 10.44, 0.0, 9.33, 0.0, 8.120000000000001, 10.379999999999999, 0.0, 0.0, 0.0, 0.0, 0.0, 0.0, 0.0, 0.0, 0.0, 0.0, 0.0, 9.45, 0.0, 0.0, 0.0, 0.0, 10.27, 0.0, 9.17, 10.78, 9.29, 0.0, 0.0, 11.2, 0.0, 0.0, 0.0, 0.0, 0.0, 0.0, 0.0, 10.3, 0.0, 0.0, 0.0, 8.14, 0.0, 0.0, 9.27, 9.3, 9.61, 0.0, 9.53, 9.28, 10.21, 0.0, 0.0, 9.46, 0.0, 9.23, 8.15, 0.0, 0.0, 0.0, 0.0, 10.14, 0.0, 0.0, 0.0, 0.0, 9.21, 9.32, 0.0, 0.0, 9.46, 0.0, 0.0, 9.27, 0.0, 9.379999999999999, 0.0, 9.33, 9.33, 0.0, 10.52, 9.22, 0.0, 0.0, 9.16, 9.15, 0.0, 9.16, 0.0, 0.0, 0.0, 0.0, 0.0, 0.0, 0.0, 0.0, 8.32, 0.0, 9.1, 9.26, 9.29, 9.23, 9.24, 0.0, 9.26, 8.15, 0.0, 8.4, 0.0, 8.4, 0.0, 7.3, 0.0, 8.16, 9.22, 0.0, 9.33, 8.49, 8.49, 0.0, 0.0, 8.1, 9.32, 8.15, 0.0, 0.0, 9.379999999999999, 8.1, 0.0, 0.0, 7.279999999999999, 0.0, 10.14, 0.0, 0.0, 9.26, 8.39, 0.0, 0.0, 8.3, 0.0, 9.29, 9.620000000000001, 0.0, 0.0, 9.3, 8.36, 0.0, 8.3, 0.0, 7.41, 8.29, 0.0, 8.3, 9.33, 8.34, 9.4, 0.0, 0.0, 0.0, 9.26, 0.0, 8.18, 0.0, 0.0, 0.0, 0.0, 0.0, 8.34, 0.0, 0.0, 8.26, 9.09, 0.0, 9.25, 0.0, 0.0, 0.0, 0.0, 8.28, 0.0, 0.0, 0.0, 9.07, 0.0, 8.18, 8.24, 0.0, 0.0, 0.0, 8.26, 8.11, 0.0, 0.0, 8.379999999999999, 0.0, 0.0, 0.0, 0.0, 0.0, 0.0, 8.3, 0.0, 0.0, 0.0, 0.0, 0.0, 8.25, 8.25, 0.0, 0.0, 9.43, 0.0, 9.22, 0.0, 0.0, 9.22, 8.04, 10.35, 8.27, 8.34, 7.5, 0.0, 0.0, 0.0, 8.3, 8.33, 8.370000000000001, 0.0, 10.42, 0.0, 9.18, 8.15, 0.0, 10.23, 9.16, 0.0, 9.16, 11.23, 10.23, 0.0, 8.41, 0.0, 8.39, 10.32, 0.0, 8.41, 8.41, 10.3, 0.0, 10.3, 7.88, 8.43, 0.0, 0.0, 0.0, 0.0, 0.0, 8.379999999999999, 0.0, 0.0, 0.0, 0.0, 0.0, 8.31, 9.51, 0.0, 9.47, 9.33, 0.0, 0.0, 8.42, 0.0, 0.0, 7.390000000000001, 0.0, 8.34, 0.0, 0.0, 0.0, 9.42, 9.42, 0.0, 9.21, 0.0, 0.0, 9.36, 0.0, 9.5, 0.0, 8.46, 0.0, 10.4, 0.0, 10.17, 0.0, 8.55, 0.0, 10.44, 8.22, 8.21, 0.0, 0.0, 8.29, 8.29, 0.0, 8.29, 0.0, 0.0, 0.0, 8.33, 0.0, 9.26, 9.54, 0.0, 0.0, 0.0, 0.0, 0.0, 8.33, 0.0, 0.0, 0.0, 0.0, 9.27, 8.29, 0.0, 0.0, 0.0, 0.0, 8.45, 9.52, 0.0, 0.0]\n",
            "      Nova Coluna    pH  density  quality  alcohol  sulphates\n",
            "9            8.35  3.35  0.99780        5     10.5       0.80\n",
            "10           0.00  3.28  0.99590        5      9.2       0.54\n",
            "11           8.35  3.35  0.99780        5     10.5       0.80\n",
            "13           0.00  3.26  0.99740        5      9.1       1.56\n",
            "14           0.00  3.16  0.99860        5      9.2       0.88\n",
            "...           ...   ...      ...      ...      ...        ...\n",
            "1593         0.00  3.42  0.99651        6      9.5       0.82\n",
            "1594         8.45  3.45  0.99490        5     10.5       0.58\n",
            "1595         9.52  3.52  0.99512        6     11.2       0.76\n",
            "1596         0.00  3.42  0.99574        6     11.0       0.75\n",
            "1597         0.00  3.57  0.99547        5     10.2       0.71\n",
            "\n",
            "[940 rows x 6 columns]\n"
          ]
        }
      ]
    },
    {
      "cell_type": "code",
      "source": [
        "# 8. Embaralhe aleatoriamente o dataframe (índices e valores)\n",
        "import numpy as np\n",
        "\n",
        "embaralhado = nova_data_vinhos.reindex(np.random.permutation(nova_data_vinhos.index))\n",
        "print(embaralhado)"
      ],
      "metadata": {
        "colab": {
          "base_uri": "https://localhost:8080/"
        },
        "id": "AiYSOnI5dlPX",
        "outputId": "0ac698ab-ca94-49e0-a128-3378c128a51c"
      },
      "execution_count": 10,
      "outputs": [
        {
          "output_type": "stream",
          "name": "stdout",
          "text": [
            "      Nova Coluna    pH  density  quality  alcohol  sulphates\n",
            "1002         0.00  3.26  0.99516        7     11.7       0.84\n",
            "973          0.00  3.52  0.99605        5     10.7       0.63\n",
            "1018         8.89  2.89  0.99007        6     12.7       0.44\n",
            "1048         9.27  3.27  0.99702        6     10.9       0.78\n",
            "1292         9.62  3.62  0.99362        6     12.4       0.67\n",
            "...           ...   ...      ...      ...      ...        ...\n",
            "163          8.37  3.37  0.99820        5      9.4       0.49\n",
            "141          8.23  3.23  0.99680        5      9.5       0.77\n",
            "1148         0.00  3.39  0.99526        6     11.6       0.66\n",
            "66           0.00  3.42  0.99680        5      9.6       0.58\n",
            "1011         9.17  3.17  0.99570        6     10.4       0.55\n",
            "\n",
            "[940 rows x 6 columns]\n"
          ]
        }
      ]
    },
    {
      "cell_type": "code",
      "source": [
        "# 9. Ordene o Dataframe seguindo um critério definido por você (valores de alcool decrescente)\n",
        "\n",
        "embaralhado2=embaralhado.sort_values(by='alcohol', ascending=False)\n",
        "print(embaralhado2)\n"
      ],
      "metadata": {
        "colab": {
          "base_uri": "https://localhost:8080/"
        },
        "id": "_0VV8G5Bfzth",
        "outputId": "42778667-5e66-4328-dbe3-03310df78965"
      },
      "execution_count": 11,
      "outputs": [
        {
          "output_type": "stream",
          "name": "stdout",
          "text": [
            "      Nova Coluna    pH  density  quality    alcohol  sulphates\n",
            "467          0.00  3.32  0.99470        6  14.000000       0.79\n",
            "588          0.00  3.72  0.99170        8  14.000000       0.74\n",
            "1477         0.00  3.54  0.99182        7  13.600000       0.88\n",
            "1132         0.00  3.38  0.99330        7  13.600000       0.88\n",
            "1475         0.00  3.54  0.99182        7  13.566667       0.88\n",
            "...           ...   ...      ...      ...        ...        ...\n",
            "1434         0.00  3.18  1.00369        6   9.000000       0.77\n",
            "566          9.32  3.32  0.99910        6   9.000000       0.60\n",
            "746          9.30  3.30  0.99780        6   9.000000       0.47\n",
            "371          0.00  3.32  0.99670        6   8.700000       0.87\n",
            "1436         8.15  3.15  0.99914        5   8.500000       0.65\n",
            "\n",
            "[940 rows x 6 columns]\n"
          ]
        }
      ]
    },
    {
      "cell_type": "code",
      "source": [
        "# 10. Escolha uma coluna numérica e um coluna com strings e utilize a função Groupby para mostrar os totais da  coluna\n",
        "\n",
        "# OBS: nenhuma coluna da base de dados escolhida possui valores string, ent fiz so com uma coluna de inteiros\n",
        "\n",
        "group=embaralhado2.groupby([\"alcohol\"])\n",
        "print(group.size().reset_index(name='counts'))"
      ],
      "metadata": {
        "colab": {
          "base_uri": "https://localhost:8080/"
        },
        "id": "FyDB7936g8VT",
        "outputId": "da0451c5-7bd7-4d13-c7ff-aec165b256fb"
      },
      "execution_count": 12,
      "outputs": [
        {
          "output_type": "stream",
          "name": "stdout",
          "text": [
            "      alcohol  counts\n",
            "0    8.500000       1\n",
            "1    8.700000       1\n",
            "2    9.000000      18\n",
            "3    9.050000       1\n",
            "4    9.100000      14\n",
            "5    9.200000      52\n",
            "6    9.233333       1\n",
            "7    9.250000       1\n",
            "8    9.300000      41\n",
            "9    9.400000      66\n",
            "10   9.500000      97\n",
            "11   9.550000       2\n",
            "12   9.566667       1\n",
            "13   9.600000      29\n",
            "14   9.700000      29\n",
            "15   9.800000      42\n",
            "16   9.900000      28\n",
            "17  10.000000      39\n",
            "18  10.033333       2\n",
            "19  10.100000      33\n",
            "20  10.200000      35\n",
            "21  10.300000      17\n",
            "22  10.400000      21\n",
            "23  10.500000      41\n",
            "24  10.550000       1\n",
            "25  10.600000      16\n",
            "26  10.700000       9\n",
            "27  10.800000      18\n",
            "28  10.900000      23\n",
            "29  11.000000      33\n",
            "30  11.100000      19\n",
            "31  11.200000      24\n",
            "32  11.300000      19\n",
            "33  11.400000      15\n",
            "34  11.500000      15\n",
            "35  11.600000       9\n",
            "36  11.700000      12\n",
            "37  11.800000      15\n",
            "38  11.900000      16\n",
            "39  12.000000      11\n",
            "40  12.100000       8\n",
            "41  12.200000       7\n",
            "42  12.300000       5\n",
            "43  12.400000       7\n",
            "44  12.500000       9\n",
            "45  12.600000       5\n",
            "46  12.700000       5\n",
            "47  12.800000      10\n",
            "48  12.900000       4\n",
            "49  13.000000       4\n",
            "50  13.100000       2\n",
            "51  13.300000       1\n",
            "52  13.500000       1\n",
            "53  13.566667       1\n",
            "54  13.600000       2\n",
            "55  14.000000       2\n"
          ]
        }
      ]
    },
    {
      "cell_type": "code",
      "source": [
        "# 11. Utilize a função MAPS para fazer algum tipo de substituição no Dataframe\n",
        "\n",
        "# multiplica todos os valores da coluna por 10 \n",
        "embaralhado[\"pH\"]=embaralhado[\"pH\"].map(lambda x: x*10)\n",
        "print(embaralhado)\n"
      ],
      "metadata": {
        "colab": {
          "base_uri": "https://localhost:8080/"
        },
        "id": "gdv5SJ-Ij-ij",
        "outputId": "00f97dcb-a91e-490e-ca39-f894764d336e"
      },
      "execution_count": 13,
      "outputs": [
        {
          "output_type": "stream",
          "name": "stdout",
          "text": [
            "      Nova Coluna    pH  density  quality  alcohol  sulphates\n",
            "1002         0.00  32.6  0.99516        7     11.7       0.84\n",
            "973          0.00  35.2  0.99605        5     10.7       0.63\n",
            "1018         8.89  28.9  0.99007        6     12.7       0.44\n",
            "1048         9.27  32.7  0.99702        6     10.9       0.78\n",
            "1292         9.62  36.2  0.99362        6     12.4       0.67\n",
            "...           ...   ...      ...      ...      ...        ...\n",
            "163          8.37  33.7  0.99820        5      9.4       0.49\n",
            "141          8.23  32.3  0.99680        5      9.5       0.77\n",
            "1148         0.00  33.9  0.99526        6     11.6       0.66\n",
            "66           0.00  34.2  0.99680        5      9.6       0.58\n",
            "1011         9.17  31.7  0.99570        6     10.4       0.55\n",
            "\n",
            "[940 rows x 6 columns]\n"
          ]
        }
      ]
    },
    {
      "cell_type": "code",
      "source": [
        "# 12.Exporte o último Dataframe para um arquivo CSV e salve no seu drive\n",
        "\n",
        "\n",
        "from google.colab import  drive\n",
        "\n",
        "drive.mount('/drive')\n",
        "\n",
        "embaralhado.to_csv(\"/drive/MyDrive/embaralhado.csv\")\n",
        "\n",
        "\n"
      ],
      "metadata": {
        "colab": {
          "base_uri": "https://localhost:8080/"
        },
        "id": "QS-hXShatX5n",
        "outputId": "a881a652-6eda-4ecc-e0ec-f266c27ff880"
      },
      "execution_count": 15,
      "outputs": [
        {
          "output_type": "stream",
          "name": "stdout",
          "text": [
            "Mounted at /drive\n"
          ]
        }
      ]
    },
    {
      "cell_type": "code",
      "source": [
        "# 13.Exporte o mesmo Dataframe para um arquivo JSON e salve no seu drive\n",
        "\n",
        "embaralhado.to_json(\"/drive/MyDrive/embaralhado.json\")"
      ],
      "metadata": {
        "id": "yArrKDRctiNw"
      },
      "execution_count": null,
      "outputs": []
    },
    {
      "cell_type": "code",
      "source": [
        "# 14.Salve o Notebook no seu repositório do Github junto com os arquivos exportados"
      ],
      "metadata": {
        "id": "agUJ2TnPz-cO"
      },
      "execution_count": null,
      "outputs": []
    }
  ]
}