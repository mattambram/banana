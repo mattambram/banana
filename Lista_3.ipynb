{
  "nbformat": 4,
  "nbformat_minor": 0,
  "metadata": {
    "colab": {
      "provenance": [],
      "mount_file_id": "1w5Jj26WWhYhU3LBi8qT4rVCkwMWOrWl_",
      "authorship_tag": "ABX9TyO1X2QIsdzl2CfrjRTiu/sX",
      "include_colab_link": true
    },
    "kernelspec": {
      "name": "python3",
      "display_name": "Python 3"
    },
    "language_info": {
      "name": "python"
    }
  },
  "cells": [
    {
      "cell_type": "markdown",
      "metadata": {
        "id": "view-in-github",
        "colab_type": "text"
      },
      "source": [
        "<a href=\"https://colab.research.google.com/github/mattambram/banana/blob/main/Lista_3.ipynb\" target=\"_parent\"><img src=\"https://colab.research.google.com/assets/colab-badge.svg\" alt=\"Open In Colab\"/></a>"
      ]
    },
    {
      "cell_type": "code",
      "execution_count": 1,
      "metadata": {
        "colab": {
          "base_uri": "https://localhost:8080/"
        },
        "id": "uT4BHxH0M-oV",
        "outputId": "696ebcad-59d8-4568-a993-a976254d32df"
      },
      "outputs": [
        {
          "output_type": "stream",
          "name": "stdout",
          "text": [
            "      fixed acidity  volatile acidity  citric acid  residual sugar  chlorides  \\\n",
            "0               7.4             0.700         0.00             1.9      0.076   \n",
            "1               7.8             0.880         0.00             2.6      0.098   \n",
            "2               7.8             0.760         0.04             2.3      0.092   \n",
            "3              11.2             0.280         0.56             1.9      0.075   \n",
            "4               7.4             0.700         0.00             1.9      0.076   \n",
            "...             ...               ...          ...             ...        ...   \n",
            "1594            6.2             0.600         0.08             2.0      0.090   \n",
            "1595            5.9             0.550         0.10             2.2      0.062   \n",
            "1596            6.3             0.510         0.13             2.3      0.076   \n",
            "1597            5.9             0.645         0.12             2.0      0.075   \n",
            "1598            6.0             0.310         0.47             3.6      0.067   \n",
            "\n",
            "      free sulfur dioxide  total sulfur dioxide  density    pH  sulphates  \\\n",
            "0                    11.0                  34.0  0.99780  3.51       0.56   \n",
            "1                    25.0                  67.0  0.99680  3.20       0.68   \n",
            "2                    15.0                  54.0  0.99700  3.26       0.65   \n",
            "3                    17.0                  60.0  0.99800  3.16       0.58   \n",
            "4                    11.0                  34.0  0.99780  3.51       0.56   \n",
            "...                   ...                   ...      ...   ...        ...   \n",
            "1594                 32.0                  44.0  0.99490  3.45       0.58   \n",
            "1595                 39.0                  51.0  0.99512  3.52       0.76   \n",
            "1596                 29.0                  40.0  0.99574  3.42       0.75   \n",
            "1597                 32.0                  44.0  0.99547  3.57       0.71   \n",
            "1598                 18.0                  42.0  0.99549  3.39       0.66   \n",
            "\n",
            "      alcohol  quality  \n",
            "0         9.4        5  \n",
            "1         9.8        5  \n",
            "2         9.8        5  \n",
            "3         9.8        6  \n",
            "4         9.4        5  \n",
            "...       ...      ...  \n",
            "1594     10.5        5  \n",
            "1595     11.2        6  \n",
            "1596     11.0        6  \n",
            "1597     10.2        5  \n",
            "1598     11.0        6  \n",
            "\n",
            "[1599 rows x 12 columns]\n"
          ]
        }
      ],
      "source": [
        "import pandas as pd\n",
        "\n",
        "# 1.Salve a base de dados escolhida no seu drive e importe para um notebook do Colab, criando um Dataframe\n",
        "vinho = pd.read_csv(\"/content/drive/MyDrive/class_wine_quality.csv\")\n",
        "data_vinhos = pd.DataFrame(vinho)\n",
        "print(data_vinhos)"
      ]
    },
    {
      "cell_type": "code",
      "source": [
        "# 2.Inspecione as colunas do conjunto de dados (Nome das colunas e tipo de dados)\n",
        "print(vinho.info())\n"
      ],
      "metadata": {
        "colab": {
          "base_uri": "https://localhost:8080/"
        },
        "id": "3k-qUMkkvdIO",
        "outputId": "3e9a0c77-4a06-471a-b83d-c19304d79cbc"
      },
      "execution_count": 2,
      "outputs": [
        {
          "output_type": "stream",
          "name": "stdout",
          "text": [
            "<class 'pandas.core.frame.DataFrame'>\n",
            "RangeIndex: 1599 entries, 0 to 1598\n",
            "Data columns (total 12 columns):\n",
            " #   Column                Non-Null Count  Dtype  \n",
            "---  ------                --------------  -----  \n",
            " 0   fixed acidity         1599 non-null   float64\n",
            " 1   volatile acidity      1599 non-null   float64\n",
            " 2   citric acid           1599 non-null   float64\n",
            " 3   residual sugar        1599 non-null   float64\n",
            " 4   chlorides             1599 non-null   float64\n",
            " 5   free sulfur dioxide   1599 non-null   float64\n",
            " 6   total sulfur dioxide  1599 non-null   float64\n",
            " 7   density               1599 non-null   float64\n",
            " 8   pH                    1599 non-null   float64\n",
            " 9   sulphates             1599 non-null   float64\n",
            " 10  alcohol               1599 non-null   float64\n",
            " 11  quality               1599 non-null   int64  \n",
            "dtypes: float64(11), int64(1)\n",
            "memory usage: 150.0 KB\n",
            "None\n"
          ]
        }
      ]
    },
    {
      "cell_type": "code",
      "source": [
        "# 3.Escolha uma coluna com valores numéricos e apague todas as linhas que possuam valor nulo\n",
        "data_vinhos.dropna(subset=['citric acid'], inplace = True)\n",
        "print(data_vinhos)"
      ],
      "metadata": {
        "id": "eYUgo1Kr7qz5",
        "colab": {
          "base_uri": "https://localhost:8080/"
        },
        "outputId": "bc47f56f-b959-41bf-b65e-46727eaababe"
      },
      "execution_count": 3,
      "outputs": [
        {
          "output_type": "stream",
          "name": "stdout",
          "text": [
            "      fixed acidity  volatile acidity  citric acid  residual sugar  chlorides  \\\n",
            "0               7.4             0.700         0.00             1.9      0.076   \n",
            "1               7.8             0.880         0.00             2.6      0.098   \n",
            "2               7.8             0.760         0.04             2.3      0.092   \n",
            "3              11.2             0.280         0.56             1.9      0.075   \n",
            "4               7.4             0.700         0.00             1.9      0.076   \n",
            "...             ...               ...          ...             ...        ...   \n",
            "1594            6.2             0.600         0.08             2.0      0.090   \n",
            "1595            5.9             0.550         0.10             2.2      0.062   \n",
            "1596            6.3             0.510         0.13             2.3      0.076   \n",
            "1597            5.9             0.645         0.12             2.0      0.075   \n",
            "1598            6.0             0.310         0.47             3.6      0.067   \n",
            "\n",
            "      free sulfur dioxide  total sulfur dioxide  density    pH  sulphates  \\\n",
            "0                    11.0                  34.0  0.99780  3.51       0.56   \n",
            "1                    25.0                  67.0  0.99680  3.20       0.68   \n",
            "2                    15.0                  54.0  0.99700  3.26       0.65   \n",
            "3                    17.0                  60.0  0.99800  3.16       0.58   \n",
            "4                    11.0                  34.0  0.99780  3.51       0.56   \n",
            "...                   ...                   ...      ...   ...        ...   \n",
            "1594                 32.0                  44.0  0.99490  3.45       0.58   \n",
            "1595                 39.0                  51.0  0.99512  3.52       0.76   \n",
            "1596                 29.0                  40.0  0.99574  3.42       0.75   \n",
            "1597                 32.0                  44.0  0.99547  3.57       0.71   \n",
            "1598                 18.0                  42.0  0.99549  3.39       0.66   \n",
            "\n",
            "      alcohol  quality  \n",
            "0         9.4        5  \n",
            "1         9.8        5  \n",
            "2         9.8        5  \n",
            "3         9.8        6  \n",
            "4         9.4        5  \n",
            "...       ...      ...  \n",
            "1594     10.5        5  \n",
            "1595     11.2        6  \n",
            "1596     11.0        6  \n",
            "1597     10.2        5  \n",
            "1598     11.0        6  \n",
            "\n",
            "[1599 rows x 12 columns]\n"
          ]
        }
      ]
    },
    {
      "cell_type": "code",
      "source": [
        "# 4. Calcule a média desta mesma coluna\n",
        "media_acido = data_vinhos['citric acid'].mean()\n",
        "print(media_acido)"
      ],
      "metadata": {
        "colab": {
          "base_uri": "https://localhost:8080/"
        },
        "id": "c0kYEN-d9_oq",
        "outputId": "a5fe69e5-cfef-4482-cc63-5fd586a332f0"
      },
      "execution_count": 4,
      "outputs": [
        {
          "output_type": "stream",
          "name": "stdout",
          "text": [
            "0.2709756097560976\n"
          ]
        }
      ]
    },
    {
      "cell_type": "code",
      "source": [
        "# 5. Escolha um critério para eliminar as linhas que possuam valores muito distantes da média e crie um novo Dataframe.\n",
        "\n",
        "linhas_remover1 = data_vinhos[ (data_vinhos['citric acid'] >= 0.47)].index\n",
        "linhas_remover2 = data_vinhos[ (data_vinhos['citric acid'] <= 0.07)].index\n",
        "data_vinhos.drop(linhas_remover1 , inplace=True)\n",
        "data_vinhos.drop(linhas_remover2 , inplace=True )\n",
        "print(data_vinhos)"
      ],
      "metadata": {
        "colab": {
          "base_uri": "https://localhost:8080/"
        },
        "id": "KbQVKzNW-7mi",
        "outputId": "f7f8e6a2-ad9b-494d-e968-9b7b48106c2d"
      },
      "execution_count": 5,
      "outputs": [
        {
          "output_type": "stream",
          "name": "stdout",
          "text": [
            "      fixed acidity  volatile acidity  citric acid  residual sugar  chlorides  \\\n",
            "9               7.5             0.500         0.36             6.1      0.071   \n",
            "10              6.7             0.580         0.08             1.8      0.097   \n",
            "11              7.5             0.500         0.36             6.1      0.071   \n",
            "13              7.8             0.610         0.29             1.6      0.114   \n",
            "14              8.9             0.620         0.18             3.8      0.176   \n",
            "...             ...               ...          ...             ...        ...   \n",
            "1593            6.8             0.620         0.08             1.9      0.068   \n",
            "1594            6.2             0.600         0.08             2.0      0.090   \n",
            "1595            5.9             0.550         0.10             2.2      0.062   \n",
            "1596            6.3             0.510         0.13             2.3      0.076   \n",
            "1597            5.9             0.645         0.12             2.0      0.075   \n",
            "\n",
            "      free sulfur dioxide  total sulfur dioxide  density    pH  sulphates  \\\n",
            "9                    17.0                 102.0  0.99780  3.35       0.80   \n",
            "10                   15.0                  65.0  0.99590  3.28       0.54   \n",
            "11                   17.0                 102.0  0.99780  3.35       0.80   \n",
            "13                    9.0                  29.0  0.99740  3.26       1.56   \n",
            "14                   52.0                 145.0  0.99860  3.16       0.88   \n",
            "...                   ...                   ...      ...   ...        ...   \n",
            "1593                 28.0                  38.0  0.99651  3.42       0.82   \n",
            "1594                 32.0                  44.0  0.99490  3.45       0.58   \n",
            "1595                 39.0                  51.0  0.99512  3.52       0.76   \n",
            "1596                 29.0                  40.0  0.99574  3.42       0.75   \n",
            "1597                 32.0                  44.0  0.99547  3.57       0.71   \n",
            "\n",
            "      alcohol  quality  \n",
            "9        10.5        5  \n",
            "10        9.2        5  \n",
            "11       10.5        5  \n",
            "13        9.1        5  \n",
            "14        9.2        5  \n",
            "...       ...      ...  \n",
            "1593      9.5        6  \n",
            "1594     10.5        5  \n",
            "1595     11.2        6  \n",
            "1596     11.0        6  \n",
            "1597     10.2        5  \n",
            "\n",
            "[940 rows x 12 columns]\n"
          ]
        }
      ]
    },
    {
      "cell_type": "code",
      "source": [
        "# 6. Crie um novo Dataframe que contenha apenas 5 colunas do conjunto anterior\n",
        "col_pH = data_vinhos[\"pH\"]\n",
        "col_density = data_vinhos[\"density\"]\n",
        "col_quality = data_vinhos[\"quality\"]\n",
        "col_alcohol = data_vinhos[\"alcohol\"]\n",
        "col_sulphates = data_vinhos[\"sulphates\"]\n",
        "\n",
        "nova_data_vinhos = pd.concat([col_pH,col_density,col_quality,col_alcohol,col_sulphates],axis=1)\n",
        "print(nova_data_vinhos)"
      ],
      "metadata": {
        "colab": {
          "base_uri": "https://localhost:8080/"
        },
        "id": "xC_xj2uoKOXN",
        "outputId": "226db92a-9d09-4102-ae13-552509fa05da"
      },
      "execution_count": 6,
      "outputs": [
        {
          "output_type": "stream",
          "name": "stdout",
          "text": [
            "        pH  density  quality  alcohol  sulphates\n",
            "9     3.35  0.99780        5     10.5       0.80\n",
            "10    3.28  0.99590        5      9.2       0.54\n",
            "11    3.35  0.99780        5     10.5       0.80\n",
            "13    3.26  0.99740        5      9.1       1.56\n",
            "14    3.16  0.99860        5      9.2       0.88\n",
            "...    ...      ...      ...      ...        ...\n",
            "1593  3.42  0.99651        6      9.5       0.82\n",
            "1594  3.45  0.99490        5     10.5       0.58\n",
            "1595  3.52  0.99512        6     11.2       0.76\n",
            "1596  3.42  0.99574        6     11.0       0.75\n",
            "1597  3.57  0.99547        5     10.2       0.71\n",
            "\n",
            "[940 rows x 5 columns]\n"
          ]
        }
      ]
    },
    {
      "cell_type": "code",
      "source": [
        "# 7. Escolha duas colunas numéricas e crie uma nova coluna que siga a regra: (Coluna A - Coluna B)*número aleatório (entre 0 e 1)\n",
        "lista_ph = col_pH.tolist()\n",
        "lista_qualidade = col_quality.tolist()\n",
        "lista_novaColuna = list()\n",
        "import random\n",
        "for i,el in enumerate(lista_ph):\n",
        "  novoEl = (el + lista_qualidade[i])*random.randint(0,1)\n",
        "  lista_novaColuna.append(novoEl)\n",
        "print(lista_novaColuna)\n",
        "nova_data_vinhos.insert(0,\"Nova Coluna\",lista_novaColuna)\n",
        "print(nova_data_vinhos)"
      ],
      "metadata": {
        "colab": {
          "base_uri": "https://localhost:8080/"
        },
        "id": "z1FX8_RAMX__",
        "outputId": "a360a000-c432-4ca6-8b55-6920b515498b"
      },
      "execution_count": 7,
      "outputs": [
        {
          "output_type": "stream",
          "name": "stdout",
          "text": [
            "[8.35, 8.28, 8.35, 8.26, 0.0, 0.0, 8.11, 7.38, 8.52, 0.0, 8.17, 9.43, 0.0, 0.0, 0.0, 0.0, 9.45, 0.0, 9.42, 10.23, 7.5, 8.33, 8.33, 7.26, 0.0, 0.0, 7.9, 8.25, 8.34, 0.0, 8.15, 0.0, 0.0, 8.26, 8.43, 0.0, 8.44, 10.379999999999999, 8.42, 0.0, 8.32, 0.0, 7.3100000000000005, 0.0, 7.16, 8.41, 0.0, 0.0, 0.0, 0.0, 0.0, 0.0, 0.0, 8.93, 7.93, 8.39, 0.0, 0.0, 0.0, 0.0, 0.0, 9.3, 0.0, 0.0, 0.0, 8.46, 0.0, 8.15, 8.15, 9.32, 8.19, 0.0, 9.39, 0.0, 9.34, 0.0, 8.39, 10.42, 8.42, 8.629999999999999, 0.0, 0.0, 8.23, 8.48, 0.0, 0.0, 8.19, 0.0, 0.0, 0.0, 0.0, 9.53, 8.42, 0.0, 8.42, 0.0, 9.59, 0.0, 8.370000000000001, 0.0, 0.0, 0.0, 0.0, 8.33, 8.33, 0.0, 0.0, 0.0, 0.0, 9.52, 0.0, 0.0, 0.0, 8.23, 9.57, 0.0, 0.0, 8.28, 0.0, 0.0, 0.0, 8.36, 8.34, 9.34, 8.29, 0.0, 0.0, 8.3, 0.0, 8.14, 0.0, 0.0, 8.3, 9.34, 0.0, 9.28, 7.3100000000000005, 0.0, 0.0, 0.0, 0.0, 0.0, 8.46, 9.32, 9.32, 8.0, 9.08, 0.0, 0.0, 8.2, 0.0, 8.23, 8.26, 8.22, 8.29, 0.0, 11.35, 0.0, 0.0, 0.0, 0.0, 0.0, 8.36, 10.379999999999999, 0.0, 10.34, 0.0, 9.22, 0.0, 0.0, 8.16, 8.51, 0.0, 0.0, 9.19, 0.0, 0.0, 9.27, 0.0, 0.0, 0.0, 9.42, 8.3, 0.0, 10.370000000000001, 9.3, 10.370000000000001, 0.0, 9.28, 0.0, 9.16, 0.0, 9.22, 0.0, 9.35, 0.0, 0.0, 9.28, 0.0, 0.0, 0.0, 9.32, 0.0, 9.31, 0.0, 0.0, 9.21, 0.0, 9.41, 9.31, 9.43, 0.0, 8.1, 9.29, 9.36, 0.0, 8.379999999999999, 0.0, 0.0, 8.32, 0.0, 0.0, 0.0, 8.36, 0.0, 9.26, 8.24, 8.25, 9.26, 0.0, 9.23, 0.0, 0.0, 8.5, 8.370000000000001, 0.0, 8.26, 8.48, 9.16, 9.32, 9.2, 0.0, 0.0, 0.0, 9.19, 8.120000000000001, 0.0, 8.17, 9.17, 9.34, 0.0, 9.48, 9.44, 9.43, 8.32, 9.48, 0.0, 0.0, 0.0, 9.18, 9.18, 0.0, 0.0, 0.0, 0.0, 0.0, 0.0, 8.09, 9.370000000000001, 0.0, 8.120000000000001, 0.0, 9.45, 0.0, 0.0, 0.0, 0.0, 9.32, 9.57, 9.57, 7.34, 9.47, 0.0, 11.72, 0.0, 0.0, 9.2, 9.0, 0.0, 9.17, 9.31, 9.31, 0.0, 9.56, 8.26, 0.0, 8.09, 0.0, 0.0, 8.129999999999999, 0.0, 8.36, 8.36, 0.0, 0.0, 0.0, 9.32, 7.43, 8.27, 8.24, 0.0, 10.35, 0.0, 8.39, 8.46, 0.0, 8.46, 0.0, 0.0, 10.33, 0.0, 7.890000000000001, 0.0, 8.14, 7.890000000000001, 0.0, 9.04, 0.0, 9.18, 0.0, 0.0, 0.0, 8.26, 0.0, 0.0, 0.0, 9.08, 0.0, 0.0, 0.0, 0.0, 8.129999999999999, 0.0, 8.33, 0.0, 0.0, 0.0, 8.44, 8.28, 8.48, 8.32, 8.31, 0.0, 0.0, 8.370000000000001, 0.0, 0.0, 9.34, 8.06, 0.0, 8.34, 8.28, 9.29, 8.34, 8.21, 8.1, 0.0, 0.0, 7.54, 0.0, 9.43, 0.0, 0.0, 0.0, 8.26, 8.26, 0.0, 0.0, 0.0, 0.0, 9.3, 0.0, 0.0, 0.0, 0.0, 0.0, 8.39, 8.29, 0.0, 8.23, 0.0, 8.25, 0.0, 0.0, 8.14, 0.0, 0.0, 8.27, 9.3, 0.0, 9.4, 9.4, 8.36, 0.0, 8.66, 8.21, 0.0, 0.0, 0.0, 8.09, 9.33, 8.23, 7.99, 0.0, 10.24, 9.29, 9.29, 0.0, 8.23, 0.0, 9.26, 0.0, 10.27, 10.33, 8.26, 0.0, 0.0, 8.24, 0.0, 0.0, 9.23, 9.28, 8.28, 0.0, 8.61, 8.24, 8.36, 0.0, 0.0, 11.46, 0.0, 9.56, 0.0, 0.0, 8.32, 0.0, 0.0, 10.26, 0.0, 9.23, 0.0, 9.18, 8.59, 8.59, 0.0, 8.59, 8.58, 0.0, 0.0, 8.22, 9.47, 0.0, 0.0, 0.0, 9.4, 8.24, 0.0, 9.4, 9.4, 0.0, 10.23, 10.120000000000001, 10.31, 9.22, 8.15, 9.22, 0.0, 8.34, 0.0, 10.15, 8.22, 0.0, 9.22, 0.0, 10.31, 8.4, 0.0, 0.0, 8.23, 8.39, 0.0, 9.29, 9.18, 9.33, 0.0, 9.29, 9.27, 0.0, 0.0, 0.0, 9.379999999999999, 8.24, 0.0, 0.0, 9.379999999999999, 8.18, 10.47, 0.0, 0.0, 8.18, 0.0, 0.0, 0.0, 9.39, 10.34, 8.61, 10.22, 10.24, 10.14, 10.41, 0.0, 10.41, 0.0, 9.44, 10.47, 0.0, 0.0, 9.15, 0.0, 9.34, 10.129999999999999, 8.129999999999999, 9.2, 0.0, 0.0, 0.0, 8.44, 8.44, 0.0, 10.28, 9.32, 0.0, 9.34, 0.0, 10.19, 8.44, 8.16, 9.14, 8.16, 0.0, 0.0, 0.0, 8.15, 9.120000000000001, 10.44, 10.26, 0.0, 0.0, 0.0, 10.36, 10.26, 10.26, 0.0, 8.18, 0.0, 0.0, 8.23, 9.22, 0.0, 10.27, 0.0, 0.0, 0.0, 0.0, 9.27, 9.41, 0.0, 9.3, 9.2, 10.17, 10.22, 8.35, 10.24, 0.0, 0.0, 0.0, 10.29, 9.36, 0.0, 0.0, 0.0, 8.49, 0.0, 0.0, 0.0, 8.15, 0.0, 0.0, 9.29, 0.0, 8.31, 10.18, 0.0, 9.4, 0.0, 8.2, 0.0, 9.42, 0.0, 0.0, 8.120000000000001, 10.379999999999999, 0.0, 0.0, 0.0, 10.33, 0.0, 0.0, 0.0, 10.15, 8.2, 9.11, 9.35, 0.0, 0.0, 0.0, 8.41, 0.0, 10.27, 0.0, 9.17, 10.78, 9.29, 0.0, 9.3, 0.0, 9.120000000000001, 0.0, 9.39, 0.0, 0.0, 0.0, 10.379999999999999, 10.3, 0.0, 9.22, 0.0, 0.0, 0.0, 0.0, 0.0, 0.0, 0.0, 0.0, 0.0, 9.28, 0.0, 9.39, 10.3, 9.46, 8.15, 9.23, 8.15, 0.0, 0.0, 8.16, 9.21, 0.0, 0.0, 0.0, 0.0, 10.32, 9.21, 9.32, 9.2, 0.0, 0.0, 0.0, 9.27, 9.27, 8.19, 9.379999999999999, 0.0, 9.33, 0.0, 0.0, 10.52, 0.0, 0.0, 0.0, 9.16, 0.0, 9.21, 0.0, 10.27, 0.0, 8.14, 0.0, 10.4, 10.4, 10.4, 0.0, 8.32, 9.15, 9.1, 9.26, 9.29, 0.0, 9.24, 0.0, 9.26, 0.0, 0.0, 8.4, 9.370000000000001, 0.0, 0.0, 7.3, 8.1, 8.16, 9.22, 0.0, 9.33, 0.0, 8.49, 9.41, 8.28, 0.0, 0.0, 0.0, 0.0, 0.0, 9.379999999999999, 0.0, 0.0, 9.24, 7.279999999999999, 0.0, 0.0, 9.370000000000001, 9.370000000000001, 9.26, 8.39, 9.35, 0.0, 8.3, 0.0, 0.0, 0.0, 9.29, 9.35, 0.0, 8.36, 8.120000000000001, 0.0, 0.0, 7.41, 0.0, 0.0, 8.3, 9.33, 8.34, 9.4, 9.4, 0.0, 9.18, 9.26, 0.0, 0.0, 0.0, 0.0, 9.39, 9.39, 0.0, 8.34, 0.0, 0.0, 8.26, 0.0, 0.0, 9.25, 8.34, 0.0, 8.36, 9.6, 0.0, 9.07, 8.24, 8.36, 0.0, 0.0, 0.0, 8.24, 0.0, 9.27, 8.24, 8.26, 8.11, 0.0, 0.0, 0.0, 0.0, 8.3, 0.0, 8.19, 8.35, 0.0, 8.3, 0.0, 0.0, 0.0, 0.0, 0.0, 0.0, 0.0, 9.44, 0.0, 9.43, 10.28, 9.22, 0.0, 9.56, 0.0, 8.04, 0.0, 8.27, 8.34, 0.0, 9.26, 9.26, 9.41, 8.3, 0.0, 8.370000000000001, 9.26, 10.42, 0.0, 9.18, 0.0, 8.53, 0.0, 0.0, 8.379999999999999, 0.0, 0.0, 0.0, 0.0, 8.41, 8.41, 8.39, 10.32, 9.41, 0.0, 8.41, 0.0, 7.52, 0.0, 7.88, 8.43, 0.0, 10.54, 0.0, 0.0, 8.370000000000001, 8.379999999999999, 9.44, 8.26, 0.0, 0.0, 0.0, 0.0, 9.51, 0.0, 0.0, 0.0, 0.0, 0.0, 8.42, 0.0, 8.44, 0.0, 8.42, 8.34, 0.0, 8.33, 0.0, 9.42, 0.0, 8.6, 0.0, 8.39, 0.0, 9.36, 0.0, 9.5, 8.57, 8.46, 9.56, 0.0, 9.25, 10.17, 9.36, 0.0, 11.24, 10.44, 0.0, 0.0, 8.21, 8.21, 0.0, 0.0, 8.29, 0.0, 0.0, 0.0, 0.0, 0.0, 0.0, 0.0, 0.0, 9.42, 0.0, 9.36, 0.0, 0.0, 0.0, 10.29, 0.0, 9.34, 9.55, 0.0, 8.29, 9.32, 0.0, 0.0, 9.42, 8.45, 0.0, 0.0, 8.57]\n",
            "      Nova Coluna    pH  density  quality  alcohol  sulphates\n",
            "9            8.35  3.35  0.99780        5     10.5       0.80\n",
            "10           8.28  3.28  0.99590        5      9.2       0.54\n",
            "11           8.35  3.35  0.99780        5     10.5       0.80\n",
            "13           8.26  3.26  0.99740        5      9.1       1.56\n",
            "14           0.00  3.16  0.99860        5      9.2       0.88\n",
            "...           ...   ...      ...      ...      ...        ...\n",
            "1593         9.42  3.42  0.99651        6      9.5       0.82\n",
            "1594         8.45  3.45  0.99490        5     10.5       0.58\n",
            "1595         0.00  3.52  0.99512        6     11.2       0.76\n",
            "1596         0.00  3.42  0.99574        6     11.0       0.75\n",
            "1597         8.57  3.57  0.99547        5     10.2       0.71\n",
            "\n",
            "[940 rows x 6 columns]\n"
          ]
        }
      ]
    },
    {
      "cell_type": "code",
      "source": [
        "# 8. Embaralhe aleatoriamente o dataframe (índices e valores)\n",
        "import numpy as np\n",
        "\n",
        "embaralhado = nova_data_vinhos.reindex(np.random.permutation(nova_data_vinhos.index))\n",
        "print(embaralhado)"
      ],
      "metadata": {
        "colab": {
          "base_uri": "https://localhost:8080/"
        },
        "id": "AiYSOnI5dlPX",
        "outputId": "d80d297b-cebf-496d-9836-ada3067837a8"
      },
      "execution_count": 8,
      "outputs": [
        {
          "output_type": "stream",
          "name": "stdout",
          "text": [
            "      Nova Coluna    pH  density  quality  alcohol  sulphates\n",
            "745          0.00  3.52  0.99768        6      9.5       0.73\n",
            "980          9.32  3.32  0.99774        6     10.5       0.71\n",
            "1525         8.33  3.33  0.99552        5      9.7       0.64\n",
            "642          0.00  3.39  0.99910        5      9.4       0.62\n",
            "1430         8.37  3.37  0.99560        5     10.4       0.62\n",
            "...           ...   ...      ...      ...      ...        ...\n",
            "927          0.00  3.20  0.99736        4      9.2       0.59\n",
            "938         10.34  3.34  0.99356        7     12.9       0.72\n",
            "17           8.11  3.11  0.99680        5      9.3       1.28\n",
            "1002         0.00  3.26  0.99516        7     11.7       0.84\n",
            "1329         0.00  3.29  0.99616        6      9.8       0.56\n",
            "\n",
            "[940 rows x 6 columns]\n"
          ]
        }
      ]
    },
    {
      "cell_type": "code",
      "source": [
        "# 9. Ordene o Dataframe seguindo um critério definido por você (valores de alcool decrescente)\n",
        "\n",
        "embaralhado2=embaralhado.sort_values(by='alcohol', ascending=False)\n",
        "print(embaralhado2)\n"
      ],
      "metadata": {
        "colab": {
          "base_uri": "https://localhost:8080/"
        },
        "id": "_0VV8G5Bfzth",
        "outputId": "df058bc0-bb15-4897-d72f-99b47e9c8cd3"
      },
      "execution_count": 9,
      "outputs": [
        {
          "output_type": "stream",
          "name": "stdout",
          "text": [
            "      Nova Coluna    pH  density  quality    alcohol  sulphates\n",
            "588         11.72  3.72  0.99170        8  14.000000       0.74\n",
            "467          9.32  3.32  0.99470        6  14.000000       0.79\n",
            "1477         0.00  3.54  0.99182        7  13.600000       0.88\n",
            "1132        10.38  3.38  0.99330        7  13.600000       0.88\n",
            "1475        10.54  3.54  0.99182        7  13.566667       0.88\n",
            "...           ...   ...      ...      ...        ...        ...\n",
            "120          0.00  3.30  0.99620        5   9.000000       0.57\n",
            "1457         8.41  3.41  0.99706        5   9.000000       0.58\n",
            "234          9.32  3.32  0.99685        6   9.000000       0.55\n",
            "371          9.32  3.32  0.99670        6   8.700000       0.87\n",
            "1436         0.00  3.15  0.99914        5   8.500000       0.65\n",
            "\n",
            "[940 rows x 6 columns]\n"
          ]
        }
      ]
    },
    {
      "cell_type": "code",
      "source": [
        "# 10. Escolha uma coluna numérica e um coluna com strings e utilize a função Groupby para mostrar os totais da  coluna\n",
        "\n",
        "# OBS: nenhuma coluna da base de dados escolhida possui valores string\n",
        "\n",
        "group=embaralhado2.groupby([\"alcohol\"])\n",
        "print(group.size().reset_index(name='counts'))"
      ],
      "metadata": {
        "colab": {
          "base_uri": "https://localhost:8080/"
        },
        "id": "FyDB7936g8VT",
        "outputId": "59a9f320-7406-4d9c-f38d-2c61dc53d3dd"
      },
      "execution_count": 10,
      "outputs": [
        {
          "output_type": "stream",
          "name": "stdout",
          "text": [
            "      alcohol  counts\n",
            "0    8.500000       1\n",
            "1    8.700000       1\n",
            "2    9.000000      18\n",
            "3    9.050000       1\n",
            "4    9.100000      14\n",
            "5    9.200000      52\n",
            "6    9.233333       1\n",
            "7    9.250000       1\n",
            "8    9.300000      41\n",
            "9    9.400000      66\n",
            "10   9.500000      97\n",
            "11   9.550000       2\n",
            "12   9.566667       1\n",
            "13   9.600000      29\n",
            "14   9.700000      29\n",
            "15   9.800000      42\n",
            "16   9.900000      28\n",
            "17  10.000000      39\n",
            "18  10.033333       2\n",
            "19  10.100000      33\n",
            "20  10.200000      35\n",
            "21  10.300000      17\n",
            "22  10.400000      21\n",
            "23  10.500000      41\n",
            "24  10.550000       1\n",
            "25  10.600000      16\n",
            "26  10.700000       9\n",
            "27  10.800000      18\n",
            "28  10.900000      23\n",
            "29  11.000000      33\n",
            "30  11.100000      19\n",
            "31  11.200000      24\n",
            "32  11.300000      19\n",
            "33  11.400000      15\n",
            "34  11.500000      15\n",
            "35  11.600000       9\n",
            "36  11.700000      12\n",
            "37  11.800000      15\n",
            "38  11.900000      16\n",
            "39  12.000000      11\n",
            "40  12.100000       8\n",
            "41  12.200000       7\n",
            "42  12.300000       5\n",
            "43  12.400000       7\n",
            "44  12.500000       9\n",
            "45  12.600000       5\n",
            "46  12.700000       5\n",
            "47  12.800000      10\n",
            "48  12.900000       4\n",
            "49  13.000000       4\n",
            "50  13.100000       2\n",
            "51  13.300000       1\n",
            "52  13.500000       1\n",
            "53  13.566667       1\n",
            "54  13.600000       2\n",
            "55  14.000000       2\n"
          ]
        }
      ]
    },
    {
      "cell_type": "code",
      "source": [
        "# 11. Utilize a função MAPS para fazer algum tipo de substituição no Dataframe\n",
        "\n",
        "# multiplica todos os valores da coluna por 10 \n",
        "embaralhado[\"pH\"]=embaralhado[\"pH\"].map(lambda x: x*10)\n",
        "print(embaralhado)\n"
      ],
      "metadata": {
        "colab": {
          "base_uri": "https://localhost:8080/"
        },
        "id": "gdv5SJ-Ij-ij",
        "outputId": "4785f67f-c2f1-4656-b4f5-e0bdc4f4db68"
      },
      "execution_count": 11,
      "outputs": [
        {
          "output_type": "stream",
          "name": "stdout",
          "text": [
            "      Nova Coluna    pH  density  quality  alcohol  sulphates\n",
            "745          0.00  35.2  0.99768        6      9.5       0.73\n",
            "980          9.32  33.2  0.99774        6     10.5       0.71\n",
            "1525         8.33  33.3  0.99552        5      9.7       0.64\n",
            "642          0.00  33.9  0.99910        5      9.4       0.62\n",
            "1430         8.37  33.7  0.99560        5     10.4       0.62\n",
            "...           ...   ...      ...      ...      ...        ...\n",
            "927          0.00  32.0  0.99736        4      9.2       0.59\n",
            "938         10.34  33.4  0.99356        7     12.9       0.72\n",
            "17           8.11  31.1  0.99680        5      9.3       1.28\n",
            "1002         0.00  32.6  0.99516        7     11.7       0.84\n",
            "1329         0.00  32.9  0.99616        6      9.8       0.56\n",
            "\n",
            "[940 rows x 6 columns]\n"
          ]
        }
      ]
    },
    {
      "cell_type": "code",
      "source": [
        "# 12.Exporte o último Dataframe para um arquivo CSV e salve no seu drive\n",
        "\n",
        "\n",
        "from google.colab import  drive\n",
        "\n",
        "drive.mount('/drive')\n",
        "\n",
        "embaralhado.to_csv(\"/drive/MyDrive/embaralhado.csv\")\n",
        "\n",
        "\n"
      ],
      "metadata": {
        "colab": {
          "base_uri": "https://localhost:8080/"
        },
        "id": "QS-hXShatX5n",
        "outputId": "7fb7180f-ad06-4c9f-add9-3e7272a04a2c"
      },
      "execution_count": 12,
      "outputs": [
        {
          "output_type": "stream",
          "name": "stdout",
          "text": [
            "Mounted at /drive\n"
          ]
        }
      ]
    },
    {
      "cell_type": "code",
      "source": [
        "# 13.Exporte o mesmo Dataframe para um arquivo JSON e salve no seu drive\n",
        "\n",
        "embaralhado.to_json(\"/drive/MyDrive/embaralhado.json\")"
      ],
      "metadata": {
        "id": "yArrKDRctiNw"
      },
      "execution_count": 13,
      "outputs": []
    },
    {
      "cell_type": "code",
      "source": [
        "# 14.Salve o Notebook no seu repositório do Github junto com os arquivos exportados"
      ],
      "metadata": {
        "id": "agUJ2TnPz-cO"
      },
      "execution_count": 16,
      "outputs": []
    }
  ]
}